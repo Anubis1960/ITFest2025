{
 "cells": [
  {
   "cell_type": "code",
   "id": "initial_id",
   "metadata": {
    "collapsed": true
   },
   "source": [
    "import os\n",
    "import cv2\n",
    "import numpy as np\n",
    "import tensorflow as tf\n",
    "import matplotlib.pyplot as plt\n",
    "from sklearn.model_selection import train_test_split\n",
    "from sklearn.metrics import confusion_matrix\n",
    "import seaborn as sns\n",
    "from dotenv import load_dotenv"
   ],
   "outputs": [],
   "execution_count": null
  },
  {
   "metadata": {},
   "cell_type": "code",
   "source": "tf.config.threading.set_intra_op_parallelism_threads(8)",
   "id": "9e2b320e4393b7af",
   "outputs": [],
   "execution_count": null
  },
  {
   "metadata": {},
   "cell_type": "code",
   "source": "load_dotenv()",
   "id": "ae90dabdb264fdc8",
   "outputs": [],
   "execution_count": null
  },
  {
   "metadata": {},
   "cell_type": "code",
   "source": [
    "TRAIN_REAL_PATH = os.getenv(\"TRAIN_REAL_PATH\")\n",
    "TRAIN_FAKE_PATH = os.getenv(\"TRAIN_FAKE_PATH\")\n",
    "TEST_FAKE_PATH = os.getenv(\"TEST_FAKE_PATH\")\n",
    "TEST_REAL_PATH = os.getenv(\"TEST_REAL_PATH\")\n",
    "\n",
    "print(\"TRAIN_REAL_PATH:\", TRAIN_REAL_PATH)\n",
    "print(\"TRAIN_FAKE_PATH:\", TRAIN_FAKE_PATH)\n",
    "print(\"TEST_REAL_PATH:\", TEST_REAL_PATH)\n",
    "print(\"TEST_FAKE_PATH:\", TEST_FAKE_PATH)\n",
    "\n",
    "\n",
    "train_real_images = np.array([cv2.imread(TRAIN_REAL_PATH+'/'+file) for file in os.listdir(TRAIN_REAL_PATH)])\n",
    "train_fake_images = np.array([cv2.imread(TRAIN_FAKE_PATH+'/'+file) for file in os.listdir(TRAIN_FAKE_PATH)])\n",
    "test_fake_images = np.array([cv2.imread(TEST_REAL_PATH+'/'+file) for file in os.listdir(TEST_REAL_PATH)])\n",
    "test_real_images = np.array([cv2.imread(TEST_FAKE_PATH+'/'+file) for file in os.listdir(TEST_FAKE_PATH)])"
   ],
   "id": "87e9a4fe5a028b79",
   "outputs": [],
   "execution_count": null
  },
  {
   "metadata": {},
   "cell_type": "code",
   "source": [
    "train_real_images = train_real_images / 255\n",
    "train_fake_images = train_fake_images / 255\n",
    "test_real_images = test_real_images / 255\n",
    "test_fake_images = test_fake_images / 255"
   ],
   "id": "e7ff923fc42929e6",
   "outputs": [],
   "execution_count": null
  },
  {
   "metadata": {},
   "cell_type": "code",
   "source": [
    "train_images = np.concatenate((train_real_images, train_fake_images), axis=0)\n",
    "test_images = np.concatenate((test_real_images, test_fake_images), axis=0)\n",
    "train_labels = np.concatenate((np.zeros(len(train_real_images)), np.ones(len(train_fake_images))), axis=0)\n",
    "test_labels = np.concatenate((np.zeros(len(test_real_images)), np.ones(len(test_fake_images))), axis=0)"
   ],
   "id": "bf55ab00e3d8ff11",
   "outputs": [],
   "execution_count": null
  },
  {
   "metadata": {},
   "cell_type": "code",
   "source": [
    "train_shuffle = np.random.permutation(len(train_images))\n",
    "test_shuffle = np.random.permutation(len(test_images))\n",
    "\n",
    "train_images = train_images[train_shuffle]\n",
    "train_labels = train_labels[train_shuffle]\n",
    "test_images = test_images[test_shuffle]\n",
    "test_labels = test_labels[test_shuffle]"
   ],
   "id": "479cce1a731f24c7",
   "outputs": [],
   "execution_count": null
  },
  {
   "metadata": {},
   "cell_type": "code",
   "source": "train_images, val_images, train_labels, val_labels = train_test_split(train_images, train_labels, test_size=0.2)",
   "id": "f3417761fff45e48",
   "outputs": [],
   "execution_count": null
  },
  {
   "metadata": {},
   "cell_type": "code",
   "source": [
    "model = tf.keras.models.Sequential([\n",
    "    tf.keras.layers.Conv2D(128, (3, 3), activation='relu', kernel_initializer='he_uniform', input_shape=(32,32,3), padding='same'),\n",
    "    tf.keras.layers.Conv2D(64, (3, 3), activation='relu', kernel_initializer='he_uniform', padding='same'),\n",
    "    tf.keras.layers.MaxPooling2D(2, 2),\n",
    "    tf.keras.layers.Conv2D(64, (3, 3), activation='relu', kernel_initializer='he_uniform', padding='same'),\n",
    "    tf.keras.layers.Conv2D(64, (3, 3), activation='relu', kernel_initializer='he_uniform', padding='same'),\n",
    "    tf.keras.layers.BatchNormalization(),\n",
    "    tf.keras.layers.MaxPooling2D(2, 2),\n",
    "    tf.keras.layers.Flatten(),\n",
    "    tf.keras.layers.Dense(100, activation='relu', kernel_initializer='he_uniform'),\n",
    "    tf.keras.layers.Dropout(0.1),\n",
    "    tf.keras.layers.Dense(64, activation='relu', kernel_initializer='he_uniform'),\n",
    "    tf.keras.layers.Dropout(0.2),\n",
    "    tf.keras.layers.BatchNormalization(),\n",
    "    tf.keras.layers.Dense(1, activation='sigmoid')\n",
    "])"
   ],
   "id": "bbb847189180ec14",
   "outputs": [],
   "execution_count": null
  },
  {
   "metadata": {},
   "cell_type": "code",
   "source": [
    "early_stopping = tf.keras.callbacks.EarlyStopping(\n",
    "    monitor='val_loss',\n",
    "    patience=2,\n",
    "    restore_best_weights=True\n",
    ")"
   ],
   "id": "b6b827c16a95680a",
   "outputs": [],
   "execution_count": null
  },
  {
   "metadata": {},
   "cell_type": "code",
   "source": "model.compile(optimizer='adam', loss='binary_crossentropy', metrics=['accuracy'])",
   "id": "cb7d040e69777d51",
   "outputs": [],
   "execution_count": null
  },
  {
   "metadata": {},
   "cell_type": "code",
   "source": [
    "history = model.fit(\n",
    "    x=train_images,\n",
    "    y=train_labels,\n",
    "    validation_data=(val_images, val_labels),\n",
    "    epochs=100,\n",
    "    callbacks=[early_stopping],\n",
    "    verbose=1,\n",
    "    batch_size=128\n",
    ")"
   ],
   "id": "24f6817bcb54eea6",
   "outputs": [],
   "execution_count": null
  },
  {
   "metadata": {},
   "cell_type": "code",
   "source": [
    "print(model.summary())\n",
    "\n",
    "plt.plot(history.history['loss'], label='Train Loss')\n",
    "plt.plot(history.history['val_loss'], label='Validation Loss')\n",
    "plt.legend()\n",
    "plt.show()"
   ],
   "id": "52bd098b0bb401e2",
   "outputs": [],
   "execution_count": null
  },
  {
   "metadata": {},
   "cell_type": "code",
   "source": [
    "test_loss, test_accuracy = model.evaluate(test_images, test_labels)\n",
    "print(f\"Test Loss: {test_loss}\")\n",
    "print(f\"Test Accuracy: {test_accuracy}\")"
   ],
   "id": "79ebfa78125d4f49",
   "outputs": [],
   "execution_count": null
  },
  {
   "metadata": {},
   "cell_type": "code",
   "source": [
    "y_pred = model.predict(test_images)\n",
    "y_pred = np.round(y_pred)\n",
    "cm = confusion_matrix(test_labels, y_pred)\n",
    "sns.heatmap(cm, annot=True, fmt='d')\n",
    "plt.show()"
   ],
   "id": "fe292eedb6027ca9",
   "outputs": [],
   "execution_count": null
  }
 ],
 "metadata": {
  "kernelspec": {
   "display_name": "Python 3",
   "language": "python",
   "name": "python3"
  },
  "language_info": {
   "codemirror_mode": {
    "name": "ipython",
    "version": 2
   },
   "file_extension": ".py",
   "mimetype": "text/x-python",
   "name": "python",
   "nbconvert_exporter": "python",
   "pygments_lexer": "ipython2",
   "version": "2.7.6"
  }
 },
 "nbformat": 4,
 "nbformat_minor": 5
}
