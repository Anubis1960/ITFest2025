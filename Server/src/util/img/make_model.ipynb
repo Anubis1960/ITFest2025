{
 "cells": [
  {
   "cell_type": "code",
   "id": "initial_id",
   "metadata": {
    "collapsed": true,
    "ExecuteTime": {
     "end_time": "2025-03-16T05:03:07.074628Z",
     "start_time": "2025-03-16T05:03:04.701865Z"
    }
   },
   "source": [
    "import os\n",
    "import cv2\n",
    "import numpy as np\n",
    "import tensorflow as tf\n",
    "import matplotlib.pyplot as plt\n",
    "from sklearn.model_selection import train_test_split\n",
    "from sklearn.metrics import confusion_matrix\n",
    "import seaborn as sns\n",
    "from dotenv import load_dotenv"
   ],
   "outputs": [
    {
     "name": "stderr",
     "output_type": "stream",
     "text": [
      "2025-03-16 07:03:05.016076: I external/local_xla/xla/tsl/cuda/cudart_stub.cc:32] Could not find cuda drivers on your machine, GPU will not be used.\n",
      "2025-03-16 07:03:05.039377: I external/local_xla/xla/tsl/cuda/cudart_stub.cc:32] Could not find cuda drivers on your machine, GPU will not be used.\n",
      "2025-03-16 07:03:05.048947: E external/local_xla/xla/stream_executor/cuda/cuda_fft.cc:467] Unable to register cuFFT factory: Attempting to register factory for plugin cuFFT when one has already been registered\n",
      "WARNING: All log messages before absl::InitializeLog() is called are written to STDERR\n",
      "E0000 00:00:1742101385.069156   52830 cuda_dnn.cc:8579] Unable to register cuDNN factory: Attempting to register factory for plugin cuDNN when one has already been registered\n",
      "E0000 00:00:1742101385.074021   52830 cuda_blas.cc:1407] Unable to register cuBLAS factory: Attempting to register factory for plugin cuBLAS when one has already been registered\n",
      "W0000 00:00:1742101385.120570   52830 computation_placer.cc:177] computation placer already registered. Please check linkage and avoid linking the same target more than once.\n",
      "W0000 00:00:1742101385.120595   52830 computation_placer.cc:177] computation placer already registered. Please check linkage and avoid linking the same target more than once.\n",
      "W0000 00:00:1742101385.120598   52830 computation_placer.cc:177] computation placer already registered. Please check linkage and avoid linking the same target more than once.\n",
      "W0000 00:00:1742101385.120601   52830 computation_placer.cc:177] computation placer already registered. Please check linkage and avoid linking the same target more than once.\n",
      "2025-03-16 07:03:05.127961: I tensorflow/core/platform/cpu_feature_guard.cc:210] This TensorFlow binary is optimized to use available CPU instructions in performance-critical operations.\n",
      "To enable the following instructions: AVX2 FMA, in other operations, rebuild TensorFlow with the appropriate compiler flags.\n"
     ]
    }
   ],
   "execution_count": 1
  },
  {
   "metadata": {
    "ExecuteTime": {
     "end_time": "2025-03-16T05:03:07.081721Z",
     "start_time": "2025-03-16T05:03:07.079117Z"
    }
   },
   "cell_type": "code",
   "source": "tf.config.threading.set_intra_op_parallelism_threads(8)",
   "id": "9e2b320e4393b7af",
   "outputs": [],
   "execution_count": 2
  },
  {
   "metadata": {
    "ExecuteTime": {
     "end_time": "2025-03-16T05:03:07.196868Z",
     "start_time": "2025-03-16T05:03:07.190511Z"
    }
   },
   "cell_type": "code",
   "source": "load_dotenv()",
   "id": "ae90dabdb264fdc8",
   "outputs": [
    {
     "data": {
      "text/plain": [
       "True"
      ]
     },
     "execution_count": 3,
     "metadata": {},
     "output_type": "execute_result"
    }
   ],
   "execution_count": 3
  },
  {
   "metadata": {
    "ExecuteTime": {
     "end_time": "2025-03-16T05:03:13.445799Z",
     "start_time": "2025-03-16T05:03:08.302805Z"
    }
   },
   "cell_type": "code",
   "source": [
    "TRAIN_REAL_PATH = os.getenv(\"TRAIN_REAL_PATH\")\n",
    "TRAIN_FAKE_PATH = os.getenv(\"TRAIN_FAKE_PATH\")\n",
    "TEST_FAKE_PATH = os.getenv(\"TEST_FAKE_PATH\")\n",
    "TEST_REAL_PATH = os.getenv(\"TEST_REAL_PATH\")\n",
    "\n",
    "print(\"TRAIN_REAL_PATH:\", TRAIN_REAL_PATH)\n",
    "print(\"TRAIN_FAKE_PATH:\", TRAIN_FAKE_PATH)\n",
    "print(\"TEST_REAL_PATH:\", TEST_REAL_PATH)\n",
    "print(\"TEST_FAKE_PATH:\", TEST_FAKE_PATH)\n",
    "\n",
    "\n",
    "train_real_images = np.array([cv2.imread(TRAIN_REAL_PATH+'/'+file) for file in os.listdir(TRAIN_REAL_PATH)])\n",
    "train_fake_images = np.array([cv2.imread(TRAIN_FAKE_PATH+'/'+file) for file in os.listdir(TRAIN_FAKE_PATH)])\n",
    "test_fake_images = np.array([cv2.imread(TEST_REAL_PATH+'/'+file) for file in os.listdir(TEST_REAL_PATH)])\n",
    "test_real_images = np.array([cv2.imread(TEST_FAKE_PATH+'/'+file) for file in os.listdir(TEST_FAKE_PATH)])"
   ],
   "id": "87e9a4fe5a028b79",
   "outputs": [
    {
     "name": "stdout",
     "output_type": "stream",
     "text": [
      "TRAIN_REAL_PATH: /home/anubis/Downloads/archive/train/REAL/\n",
      "TRAIN_FAKE_PATH: /home/anubis/Downloads/archive/train/FAKE/\n",
      "TEST_REAL_PATH: /home/anubis/Downloads/archive/test/REAL/\n",
      "TEST_FAKE_PATH: /home/anubis/Downloads/archive/test/FAKE/\n"
     ]
    }
   ],
   "execution_count": 4
  },
  {
   "metadata": {
    "ExecuteTime": {
     "end_time": "2025-03-16T05:03:13.918905Z",
     "start_time": "2025-03-16T05:03:13.449724Z"
    }
   },
   "cell_type": "code",
   "source": [
    "train_real_images = train_real_images / 255.0\n",
    "train_fake_images = train_fake_images / 255.0\n",
    "test_real_images = test_real_images / 255.0\n",
    "test_fake_images = test_fake_images / 255.0"
   ],
   "id": "e7ff923fc42929e6",
   "outputs": [],
   "execution_count": 5
  },
  {
   "metadata": {
    "ExecuteTime": {
     "end_time": "2025-03-16T05:03:45.124979Z",
     "start_time": "2025-03-16T05:03:41.351509Z"
    }
   },
   "cell_type": "code",
   "source": [
    "train_images = np.concatenate((train_real_images, train_fake_images), axis=0)\n",
    "test_images = np.concatenate((test_real_images, test_fake_images), axis=0)\n",
    "train_labels = np.concatenate((np.zeros(len(train_real_images)), np.ones(len(train_fake_images))), axis=0)\n",
    "test_labels = np.concatenate((np.zeros(len(test_real_images)), np.ones(len(test_fake_images))), axis=0)"
   ],
   "id": "bf55ab00e3d8ff11",
   "outputs": [],
   "execution_count": 7
  },
  {
   "metadata": {
    "ExecuteTime": {
     "end_time": "2025-03-16T05:03:46.294346Z",
     "start_time": "2025-03-16T05:03:45.128969Z"
    }
   },
   "cell_type": "code",
   "source": [
    "train_shuffle = np.random.permutation(len(train_images))\n",
    "test_shuffle = np.random.permutation(len(test_images))\n",
    "\n",
    "train_images = train_images[train_shuffle]\n",
    "train_labels = train_labels[train_shuffle]\n",
    "test_images = test_images[test_shuffle]\n",
    "test_labels = test_labels[test_shuffle]"
   ],
   "id": "479cce1a731f24c7",
   "outputs": [],
   "execution_count": 8
  },
  {
   "metadata": {
    "ExecuteTime": {
     "end_time": "2025-03-16T05:03:47.980497Z",
     "start_time": "2025-03-16T05:03:46.317282Z"
    }
   },
   "cell_type": "code",
   "source": "train_images, val_images, train_labels, val_labels = train_test_split(train_images, train_labels, test_size=0.2)",
   "id": "f3417761fff45e48",
   "outputs": [],
   "execution_count": 9
  },
  {
   "metadata": {
    "ExecuteTime": {
     "end_time": "2025-03-16T05:03:48.100807Z",
     "start_time": "2025-03-16T05:03:48.007120Z"
    }
   },
   "cell_type": "code",
   "source": [
    "model = tf.keras.models.Sequential([\n",
    "    tf.keras.layers.Conv2D(128, (3, 3), activation='relu', kernel_initializer='he_uniform', input_shape=(32,32,3), padding='same'),\n",
    "    tf.keras.layers.Conv2D(64, (3, 3), activation='relu', kernel_initializer='he_uniform', padding='same'),\n",
    "    tf.keras.layers.MaxPooling2D(2, 2),\n",
    "    tf.keras.layers.Conv2D(64, (3, 3), activation='relu', kernel_initializer='he_uniform', padding='same'),\n",
    "    tf.keras.layers.Conv2D(64, (3, 3), activation='relu', kernel_initializer='he_uniform', padding='same'),\n",
    "    tf.keras.layers.BatchNormalization(),\n",
    "    tf.keras.layers.MaxPooling2D(2, 2),\n",
    "    tf.keras.layers.Flatten(),\n",
    "    tf.keras.layers.Dense(100, activation='relu', kernel_initializer='he_uniform'),\n",
    "    tf.keras.layers.Dropout(0.2),\n",
    "    tf.keras.layers.Dense(64, activation='relu', kernel_initializer='he_uniform'),\n",
    "    tf.keras.layers.Dropout(0.2),\n",
    "    tf.keras.layers.BatchNormalization(),\n",
    "    tf.keras.layers.Dense(1, activation='sigmoid')\n",
    "])"
   ],
   "id": "bbb847189180ec14",
   "outputs": [
    {
     "name": "stderr",
     "output_type": "stream",
     "text": [
      "/home/anubis/projects/ITFest2025/Server/.venv/lib/python3.12/site-packages/keras/src/layers/convolutional/base_conv.py:107: UserWarning: Do not pass an `input_shape`/`input_dim` argument to a layer. When using Sequential models, prefer using an `Input(shape)` object as the first layer in the model instead.\n",
      "  super().__init__(activity_regularizer=activity_regularizer, **kwargs)\n",
      "2025-03-16 07:03:48.031766: E external/local_xla/xla/stream_executor/cuda/cuda_platform.cc:51] failed call to cuInit: INTERNAL: CUDA error: Failed call to cuInit: UNKNOWN ERROR (303)\n"
     ]
    }
   ],
   "execution_count": 10
  },
  {
   "metadata": {
    "ExecuteTime": {
     "end_time": "2025-03-16T05:03:48.180541Z",
     "start_time": "2025-03-16T05:03:48.177998Z"
    }
   },
   "cell_type": "code",
   "source": [
    "early_stopping = tf.keras.callbacks.EarlyStopping(\n",
    "    monitor='val_loss',\n",
    "    patience=2,\n",
    "    restore_best_weights=True\n",
    ")"
   ],
   "id": "b6b827c16a95680a",
   "outputs": [],
   "execution_count": 11
  },
  {
   "metadata": {
    "ExecuteTime": {
     "end_time": "2025-03-16T05:03:48.233039Z",
     "start_time": "2025-03-16T05:03:48.224123Z"
    }
   },
   "cell_type": "code",
   "source": "model.compile(optimizer='adam', loss='binary_crossentropy', metrics=['accuracy'])",
   "id": "cb7d040e69777d51",
   "outputs": [],
   "execution_count": 12
  },
  {
   "metadata": {
    "jupyter": {
     "is_executing": true
    },
    "ExecuteTime": {
     "start_time": "2025-03-16T05:03:55.903017Z"
    }
   },
   "cell_type": "code",
   "source": [
    "history = model.fit(\n",
    "    x=train_images,\n",
    "    y=train_labels,\n",
    "    validation_data=(val_images, val_labels),\n",
    "    epochs=100,\n",
    "    callbacks=[early_stopping],\n",
    "    verbose=2,\n",
    "    batch_size=32\n",
    ")"
   ],
   "id": "24f6817bcb54eea6",
   "outputs": [
    {
     "name": "stdout",
     "output_type": "stream",
     "text": [
      "Epoch 1/100\n"
     ]
    },
    {
     "name": "stderr",
     "output_type": "stream",
     "text": [
      "2025-03-16 07:03:56.271565: W external/local_xla/xla/tsl/framework/cpu_allocator_impl.cc:83] Allocation of 983040000 exceeds 10% of free system memory.\n"
     ]
    }
   ],
   "execution_count": null
  },
  {
   "metadata": {},
   "cell_type": "code",
   "source": [
    "print(model.summary())\n",
    "\n",
    "plt.plot(history.history['loss'], label='Train Loss')\n",
    "plt.plot(history.history['val_loss'], label='Validation Loss')\n",
    "plt.legend()\n",
    "plt.show()"
   ],
   "id": "52bd098b0bb401e2",
   "outputs": [],
   "execution_count": null
  },
  {
   "metadata": {},
   "cell_type": "code",
   "source": [
    "test_loss, test_accuracy = model.evaluate(test_images, test_labels)\n",
    "print(f\"Test Loss: {test_loss}\")\n",
    "print(f\"Test Accuracy: {test_accuracy}\")"
   ],
   "id": "79ebfa78125d4f49",
   "outputs": [],
   "execution_count": null
  },
  {
   "metadata": {},
   "cell_type": "code",
   "source": [
    "y_pred = model.predict(test_images)\n",
    "y_pred = np.round(y_pred)\n",
    "cm = confusion_matrix(test_labels, y_pred)\n",
    "sns.heatmap(cm, annot=True, fmt='d')\n",
    "plt.show()"
   ],
   "id": "fe292eedb6027ca9",
   "outputs": [],
   "execution_count": null
  },
  {
   "metadata": {},
   "cell_type": "code",
   "outputs": [],
   "execution_count": null,
   "source": "model.save(\"deepfake_model32_tanh.keras\")",
   "id": "b29e04c4fbfa9a08"
  }
 ],
 "metadata": {
  "kernelspec": {
   "display_name": "Python 3",
   "language": "python",
   "name": "python3"
  },
  "language_info": {
   "codemirror_mode": {
    "name": "ipython",
    "version": 2
   },
   "file_extension": ".py",
   "mimetype": "text/x-python",
   "name": "python",
   "nbconvert_exporter": "python",
   "pygments_lexer": "ipython2",
   "version": "2.7.6"
  }
 },
 "nbformat": 4,
 "nbformat_minor": 5
}
