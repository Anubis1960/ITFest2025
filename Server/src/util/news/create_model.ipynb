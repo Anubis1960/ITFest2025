{
 "cells": [
  {
   "cell_type": "code",
   "id": "initial_id",
   "metadata": {
    "collapsed": true,
    "ExecuteTime": {
     "end_time": "2025-03-16T04:48:06.333997Z",
     "start_time": "2025-03-16T04:48:01.739210Z"
    }
   },
   "source": [
    "import pandas as pd\n",
    "import os\n",
    "import tensorflow as tf\n",
    "from tensorflow.keras.preprocessing.text import Tokenizer\n",
    "from tensorflow.keras.preprocessing.sequence import pad_sequences\n",
    "from tensorflow.keras.utils import to_categorical\n",
    "import matplotlib.pyplot as plt\n",
    "from sklearn.metrics import confusion_matrix\n",
    "import seaborn as sns\n",
    "import re\n",
    "import nltk\n",
    "nltk.download('punkt')\n",
    "nltk.download('stopwords')\n",
    "from nltk.corpus import stopwords\n",
    "import pickle\n",
    "from sklearn.model_selection import train_test_split\n",
    "from sklearn.metrics import accuracy_score, classification_report\n",
    "from dotenv import load_dotenv"
   ],
   "outputs": [
    {
     "name": "stderr",
     "output_type": "stream",
     "text": [
      "2025-03-16 06:48:02.094260: I external/local_xla/xla/tsl/cuda/cudart_stub.cc:32] Could not find cuda drivers on your machine, GPU will not be used.\n",
      "2025-03-16 06:48:02.195668: I external/local_xla/xla/tsl/cuda/cudart_stub.cc:32] Could not find cuda drivers on your machine, GPU will not be used.\n",
      "2025-03-16 06:48:02.227589: E external/local_xla/xla/stream_executor/cuda/cuda_fft.cc:467] Unable to register cuFFT factory: Attempting to register factory for plugin cuFFT when one has already been registered\n",
      "WARNING: All log messages before absl::InitializeLog() is called are written to STDERR\n",
      "E0000 00:00:1742100482.342299   50664 cuda_dnn.cc:8579] Unable to register cuDNN factory: Attempting to register factory for plugin cuDNN when one has already been registered\n",
      "E0000 00:00:1742100482.374930   50664 cuda_blas.cc:1407] Unable to register cuBLAS factory: Attempting to register factory for plugin cuBLAS when one has already been registered\n",
      "W0000 00:00:1742100482.498333   50664 computation_placer.cc:177] computation placer already registered. Please check linkage and avoid linking the same target more than once.\n",
      "W0000 00:00:1742100482.498356   50664 computation_placer.cc:177] computation placer already registered. Please check linkage and avoid linking the same target more than once.\n",
      "W0000 00:00:1742100482.498359   50664 computation_placer.cc:177] computation placer already registered. Please check linkage and avoid linking the same target more than once.\n",
      "W0000 00:00:1742100482.498362   50664 computation_placer.cc:177] computation placer already registered. Please check linkage and avoid linking the same target more than once.\n",
      "2025-03-16 06:48:02.504374: I tensorflow/core/platform/cpu_feature_guard.cc:210] This TensorFlow binary is optimized to use available CPU instructions in performance-critical operations.\n",
      "To enable the following instructions: AVX2 FMA, in other operations, rebuild TensorFlow with the appropriate compiler flags.\n",
      "[nltk_data] Downloading package punkt to /home/anubis/nltk_data...\n",
      "[nltk_data]   Package punkt is already up-to-date!\n",
      "[nltk_data] Downloading package stopwords to /home/anubis/nltk_data...\n",
      "[nltk_data]   Package stopwords is already up-to-date!\n"
     ]
    }
   ],
   "execution_count": 1
  },
  {
   "metadata": {
    "ExecuteTime": {
     "end_time": "2025-03-16T04:48:06.361736Z",
     "start_time": "2025-03-16T04:48:06.358321Z"
    }
   },
   "cell_type": "code",
   "source": "tf.config.threading.set_intra_op_parallelism_threads(2)",
   "id": "594ff2c444b7d485",
   "outputs": [],
   "execution_count": 2
  },
  {
   "metadata": {
    "ExecuteTime": {
     "end_time": "2025-03-16T04:48:06.495359Z",
     "start_time": "2025-03-16T04:48:06.488717Z"
    }
   },
   "cell_type": "code",
   "source": "load_dotenv()",
   "id": "6ebea4e31f353b80",
   "outputs": [
    {
     "data": {
      "text/plain": [
       "True"
      ]
     },
     "execution_count": 3,
     "metadata": {},
     "output_type": "execute_result"
    }
   ],
   "execution_count": 3
  },
  {
   "metadata": {
    "ExecuteTime": {
     "end_time": "2025-03-16T04:48:06.545727Z",
     "start_time": "2025-03-16T04:48:06.541669Z"
    }
   },
   "cell_type": "code",
   "source": [
    "#Constants\n",
    "MAXLEN = 250\n",
    "MAX_NB_WORDS = 50_000\n",
    "STOPWORDS = set(stopwords.words('english'))\n",
    "# Types: Misinformation, Credible, Biased/Political, Unreliable/Caution\n",
    "NEWS_CLASS_MAPPING = {\n",
    "    \"misinformation\": 0,\n",
    "    \"credible\": 1,\n",
    "    \"political_bias\": 2,\n",
    "    \"unreliable\": 3,\n",
    "}"
   ],
   "id": "e062cecff114fae4",
   "outputs": [],
   "execution_count": 4
  },
  {
   "metadata": {},
   "cell_type": "code",
   "outputs": [],
   "execution_count": null,
   "source": [
    "def preprocess_text(text):\n",
    "    # text = BeautifulSoup(text, \"html.parser\").get_text()\n",
    "    try:\n",
    "        if text is None:\n",
    "            return \"\"\n",
    "        if text == \"\":\n",
    "            return \"\"\n",
    "        if not isinstance(text, str):\n",
    "            return \"\"\n",
    "\n",
    "        # Combine regex for URLs, mentions, and non-alphabetic characters\n",
    "        text = re.sub(r\"http\\S+|@\\w+|[^a-zA-Z\\s]\", \" \", text)\n",
    "\n",
    "        # Remove new lines, tabs, and extra spaces\n",
    "        text = re.sub(r\"[\\n\\t]+\", \" \", text)  # Replace new lines and tabs with a single space\n",
    "        text = re.sub(r\"  +\", \" \", text).strip()  # Replace multiple spaces with a single space\n",
    "\n",
    "        # Convert to lowercase\n",
    "        text = text.lower()\n",
    "\n",
    "        # Tokenize and remove stopwords\n",
    "        words = text.split()\n",
    "        words = [w for w in words if w not in STOPWORDS]\n",
    "\n",
    "        # Join words back into a single string\n",
    "        text = \" \".join(words)\n",
    "        return text\n",
    "    except Exception as e:\n",
    "        print(f\"Error processing text: {e}\")\n",
    "        return \"\""
   ],
   "id": "1483af6e46780acb"
  },
  {
   "metadata": {},
   "cell_type": "code",
   "outputs": [],
   "execution_count": null,
   "source": [
    "def tokenize_text(X_t, X_v):\n",
    "    # Tokenize the text data\n",
    "    tokenizer = Tokenizer(num_words=MAX_NB_WORDS, lower=True)\n",
    "    tokenizer.fit_on_texts(X_t)\n",
    "\n",
    "    # Convert text to sequences\n",
    "    X_train_seq = tokenizer.texts_to_sequences(X_t)\n",
    "    X_val_seq = tokenizer.texts_to_sequences(X_v)\n",
    "\n",
    "    X_train_pad = pad_sequences(X_train_seq, maxlen=MAXLEN, padding='post')\n",
    "    X_val_pad = pad_sequences(X_val_seq, maxlen=MAXLEN, padding='post')\n",
    "\n",
    "    # Vocabulary size\n",
    "    vocab_len = len(tokenizer.word_index) + 1\n",
    "    print(f\"Vocabulary size: {vocab_len}\")\n",
    "\n",
    "    return X_train_pad, X_val_pad, vocab_len, tokenizer"
   ],
   "id": "7cd26b3564f1ebe4"
  },
  {
   "metadata": {},
   "cell_type": "code",
   "outputs": [],
   "execution_count": null,
   "source": "NEWS_DATASET = os.getenv(\"NEWS_DATASET\")",
   "id": "5ba0fb20f9d46b42"
  },
  {
   "metadata": {},
   "cell_type": "code",
   "outputs": [],
   "execution_count": null,
   "source": [
    "data = pd.read_csv(NEWS_DATASET, usecols=[\"text\", \"type\"], nrows=1_000_000)\n",
    "x = data[\"text\"]\n",
    "y = data[\"type\"]\n",
    "del data\n",
    "x_t, x_v, y_t, y_v = train_test_split(x, y, test_size=0.2)\n",
    "del x, y\n",
    "y_t = y_t.map(NEWS_CLASS_MAPPING)\n",
    "y_v = y_v.map(NEWS_CLASS_MAPPING)\n",
    "\n",
    "X_train_padded, X_val_padded, vocab_size, tokenizer = tokenize_text(x_t, x_v)\n",
    "\n",
    "with open(f\"tokenizer.pickle\", \"wb\") as f:\n",
    "    pickle.dump(tokenizer, f)"
   ],
   "id": "9078eed46fe46456"
  },
  {
   "metadata": {},
   "cell_type": "code",
   "outputs": [],
   "execution_count": null,
   "source": [
    "def create_random_forest_classifier():\n",
    "    from sklearn.ensemble import RandomForestClassifier\n",
    "    return RandomForestClassifier(n_estimators=100, random_state=42)"
   ],
   "id": "5e3ea7cd0681f3b6"
  },
  {
   "metadata": {},
   "cell_type": "code",
   "outputs": [],
   "execution_count": null,
   "source": [
    "rf = create_random_forest_classifier()\n",
    "rf.fit(X_train_padded, y_t)\n",
    "y_pred = rf.predict(X_val_padded)\n",
    "cm = confusion_matrix(y_v, y_pred)\n",
    "sns.heatmap(cm, annot=True, fmt='d', cmap='Blues',\n",
    "            xticklabels=NEWS_CLASS_MAPPING.keys(),\n",
    "            yticklabels=NEWS_CLASS_MAPPING.keys())\n",
    "plt.xlabel(\"Predicted\")\n",
    "plt.ylabel(\"True\")\n",
    "plt.show()\n",
    "\n",
    "accuracy = accuracy_score(y_v, y_pred)\n",
    "print(f\"Accuracy: {accuracy:.4f}\")\n",
    "report = classification_report(y_v, y_pred, target_names=list(NEWS_CLASS_MAPPING.keys()))\n",
    "print(report)\n",
    "\n",
    "#save model\n",
    "with open(f\"random_forest.pickle\", \"wb\") as f:\n",
    "    pickle.dump(rf, f)"
   ],
   "id": "b4587fd49f0ca2da"
  }
 ],
 "metadata": {
  "kernelspec": {
   "display_name": "Python 3",
   "language": "python",
   "name": "python3"
  },
  "language_info": {
   "codemirror_mode": {
    "name": "ipython",
    "version": 2
   },
   "file_extension": ".py",
   "mimetype": "text/x-python",
   "name": "python",
   "nbconvert_exporter": "python",
   "pygments_lexer": "ipython2",
   "version": "2.7.6"
  }
 },
 "nbformat": 4,
 "nbformat_minor": 5
}
